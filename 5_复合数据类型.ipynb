{
 "cells": [
  {
   "cell_type": "code",
   "execution_count": 2,
   "metadata": {},
   "outputs": [
    {
     "name": "stdout",
     "output_type": "stream",
     "text": [
      "输入的两个数字之和是:  1223\n",
      "输入的两个数字之和是:  35\n"
     ]
    }
   ],
   "source": [
    "#例子: 输入两个数字, 输出它们的和\n",
    "a=input(\"请输入第一个数字: \")\n",
    "b=input(\"请输入第二个数字: \")\n",
    "print(\"输入的两个数字之和是: \",a+b)  #input输入时是自动默认为字符串\n",
    "#应该进行强制类型转化\n",
    "print(\"输入的两个数字之和是: \",int(a)+int(b))  #强制类型转化为整数"
   ]
  },
  {
   "cell_type": "markdown",
   "metadata": {},
   "source": [
    "复合数据类型:\n",
    "- 列表 List\n",
    "    列表是一种有序的集合，可以存储任意类型的数据，可以包含重复元素。\n",
    "    例如: COLORS = ['red', 'green', 'blue', 'yellow', 'purple']\n",
    "- 元组 Tuple\n",
    "    元组是另一种有序的集合，与列表类似，但是元组一旦初始化就不能修改。\n",
    "    例如: COLORS = ('red', 'green', 'blue', 'yellow', 'purple')\n",
    "- 字典 Dictionary\n",
    "    字典是一种无序的键值对集合，可以存储任意类型的数据。\n",
    "    例如: COLORS = {'red': 255, 'green': 0, 'blue': 0}\n",
    "- 集合 Set\n",
    "    集合是一种无序的集合，可以存储任意类型的数据，但不允许重复元素。\n",
    "    例如: COLORS = {'red', 'green', 'blue', 'yellow', 'purple'}"
   ]
  },
  {
   "cell_type": "code",
   "execution_count": 4,
   "metadata": {},
   "outputs": [
    {
     "name": "stdout",
     "output_type": "stream",
     "text": [
      "[1, '2', 3.0, True, '大家好']\n",
      "3.0\n",
      "[1, '2']\n",
      "['2', 3.0, True, '大家好']\n",
      "大家好\n",
      "True\n",
      "['2', 3.0]\n",
      "[1, 3.0, '大家好']\n",
      "['大家好', True, 3.0, '2', 1]\n",
      "[1, '2', 5.0, True, '大家好']\n"
     ]
    }
   ],
   "source": [
    "#列表:\n",
    "list0=[1,'2',3.0,True,\"大家好\"]\n",
    "print(list0)\n",
    "print(list0[2])\n",
    "print(list0[0:2])\n",
    "print(list0[1:])\n",
    "print(list0[-1])\n",
    "print(list0[-2])\n",
    "print(list0[1:3])\n",
    "print(list0[::2])\n",
    "print(list0[::-1])\n",
    "list0[2]=5.0    #列表可以修改值\n",
    "print(list0)"
   ]
  },
  {
   "cell_type": "code",
   "execution_count": 5,
   "metadata": {},
   "outputs": [
    {
     "name": "stdout",
     "output_type": "stream",
     "text": [
      "<class 'tuple'>\n",
      "(1, '2', 3.0, True, '大家好')\n"
     ]
    }
   ],
   "source": [
    "#元组:\n",
    "tuple0=(1,'2',3.0,True,\"大家好\")\n",
    "print(type(tuple0))\n",
    "print(tuple0)\n",
    "#元组不可以修改"
   ]
  },
  {
   "cell_type": "code",
   "execution_count": 9,
   "metadata": {},
   "outputs": [
    {
     "name": "stdout",
     "output_type": "stream",
     "text": [
      "{'第一个元素': 1, '第二个元素': '2', '第三个元素': 3.0, '第四个元素': True, '第五个元素': '大家好'}\n",
      "1\n",
      "{'第一个元素': 1, '第二个元素': '2', '第三个元素': 3.0, '第四个元素': 5.0, '第五个元素': '大家好'}\n"
     ]
    }
   ],
   "source": [
    "#字典\n",
    "#key\n",
    "dict0={\"第一个元素\":1,\"第二个元素\":'2',\"第三个元素\":3.0,\"第四个元素\":True,\"第五个元素\":\"大家好\"}\n",
    "print(dict0)\n",
    "#print(dict0[0])    #报错，字典的key只能是相关的索引\n",
    "print(dict0[\"第一个元素\"])\n",
    "dict0[\"第四个元素\"]=5.0  #可以修改字典元素\n",
    "print(dict0)"
   ]
  },
  {
   "cell_type": "code",
   "execution_count": 10,
   "metadata": {},
   "outputs": [
    {
     "name": "stdout",
     "output_type": "stream",
     "text": [
      "<class 'set'>\n",
      "{1, 2, 3.0, '大家好'}\n"
     ]
    }
   ],
   "source": [
    "#集合\n",
    "set0={1,2,3.0,True,\"大家好\"}  #集合中元素不可以重复\n",
    "print(type(set0))\n",
    "print(set0)"
   ]
  },
  {
   "cell_type": "code",
   "execution_count": 17,
   "metadata": {},
   "outputs": [
    {
     "name": "stdout",
     "output_type": "stream",
     "text": [
      "helloalice\n",
      "[1, 3, 4, '2', 'alice', 2, 4, 6, '3', 'bob']\n",
      "[1, 3, 4, '2', 'alice', 1, 3, 4, '2', 'alice']\n",
      "(1, 3, 4, '2', 'alice', 2, 4, 6, '3', 'bob')\n",
      "(1, 3, 4, '2', 'alice', 1, 3, 4, '2', 'alice')\n",
      "True\n",
      "False\n",
      "False\n"
     ]
    }
   ],
   "source": [
    "#运算符+复合数据类型\n",
    "a=\"hello\"\n",
    "b=\"alice\"\n",
    "c=a+b\n",
    "print(c)\n",
    "\n",
    "a=[1,3,4,\"2\",\"alice\"]\n",
    "b=[2,4,6,\"3\",\"bob\"]\n",
    "c=a+b\n",
    "print(c)\n",
    "print(a*2)\n",
    "\n",
    "a=(1,3,4,\"2\",\"alice\")\n",
    "b=(2,4,6,\"3\",\"bob\")\n",
    "c=a+b\n",
    "print(c)\n",
    "print(a*2)\n",
    "\n",
    "#但是字典和字典之间不支持加法运算\n",
    "\n",
    "a=[1,3,4,\"2\",\"alice\"]\n",
    "b=1\n",
    "print(b in a)\n",
    "c=\"li\"\n",
    "print(c in a)  #False  执行的是c in alice\n",
    "d=[4,\"2\"]\n",
    "print(d in a)  #false  \n",
    "\n"
   ]
  }
 ],
 "metadata": {
  "kernelspec": {
   "display_name": "Python 3",
   "language": "python",
   "name": "python3"
  },
  "language_info": {
   "codemirror_mode": {
    "name": "ipython",
    "version": 3
   },
   "file_extension": ".py",
   "mimetype": "text/x-python",
   "name": "python",
   "nbconvert_exporter": "python",
   "pygments_lexer": "ipython3",
   "version": "3.12.5"
  }
 },
 "nbformat": 4,
 "nbformat_minor": 2
}
