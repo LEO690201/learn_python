{
 "cells": [
  {
   "cell_type": "markdown",
   "metadata": {},
   "source": [
    "字符串:\n",
    "- 字符串是由零个或多个字符组成的有限序列，通常用单引号''或双引号\"\"括起来。\n",
    "\n",
    "    例如:name = 'Alice'\n",
    "    - print(name)  # 输出: Alice\n",
    "    - print(name[0])  # 输出: A\n",
    "    - print(name[1:3])  # 输出: li   没有c  结束的字符索引不包含在结果中\n",
    "    - print(name[1:])  # 输出: lice\n",
    "    - print(name[:3])  # 输出: Ali\n",
    "- 字符串的元素可以是任何字符，包括数字、字母、符号、空格、换行符等。\n",
    "- 字符串的长度是指字符串中字符的个数。\n",
    "- 字符串的索引从0开始，即第一个字符的索引为0，第二个字符的索引为1，以此类推。\n",
    "- 字符串的截取操作可以从指定位置开始截取指定数量的字符，也可以从指定位置开始截取到字符串末尾。\n",
    "- 字符串的连接操作可以将两个或多个字符串连接成一个新的字符串。\n",
    "- 字符串的格式化操作可以将字符串中的占位符替换为实际值。\n",
    "- 字符串的比较操作可以比较两个字符串是否相等。\n",
    "- 字符串的大小写转换操作可以将字符串中的所有字母转换为大写或小写。\n",
    "- 字符串的查找操作可以查找字符串中指定子串的位置。\n",
    "- 字符串的替换操作可以将字符串中指定子串替换为另一个子串。\n",
    "- 字符串的分割操作可以将字符串按照指定分隔符分割成多个子串。"
   ]
  },
  {
   "cell_type": "code",
   "execution_count": 2,
   "metadata": {},
   "outputs": [
    {
     "name": "stdout",
     "output_type": "stream",
     "text": [
      "A\n",
      "e\n",
      "li\n",
      "lice\n",
      "Ali\n",
      "Aie\n",
      "li\n"
     ]
    }
   ],
   "source": [
    "#字符串的切片操作\n",
    "name='Alice'\n",
    "print(name[0]) # A\n",
    "print(name[-1]) # e\n",
    "print(name[1:3]) # li   #输出的长度:结束的索引-开始的索引\n",
    "print(name[1:]) # lice\n",
    "print(name[:3]) # Ali\n",
    "print(name[::2]) # Aie\n",
    "print(name[-4:-2]) #li"
   ]
  },
  {
   "cell_type": "code",
   "execution_count": 8,
   "metadata": {},
   "outputs": [
    {
     "name": "stdout",
     "output_type": "stream",
     "text": [
      "HelloAlice\n",
      "Hello Alice\n",
      "11\n",
      "AliceAlice\n"
     ]
    }
   ],
   "source": [
    "#字符串的拼接\n",
    "greeting=\"Hello\"\n",
    "print(greeting+name)\n",
    "print(greeting+\" \"+name) \n",
    "print(\"1\"+\"1\")  #字符串的拼接\n",
    "print(\"Alice\"*2)  #重复输出字符串"
   ]
  },
  {
   "cell_type": "code",
   "execution_count": 9,
   "metadata": {},
   "outputs": [
    {
     "name": "stdout",
     "output_type": "stream",
     "text": [
      "veveov\n"
     ]
    }
   ],
   "source": [
    "#示例:\n",
    "str=\"iloveu\"\n",
    "print(str[-3:-1]*2+str[2:4])"
   ]
  }
 ],
 "metadata": {
  "kernelspec": {
   "display_name": "Python 3",
   "language": "python",
   "name": "python3"
  },
  "language_info": {
   "codemirror_mode": {
    "name": "ipython",
    "version": 3
   },
   "file_extension": ".py",
   "mimetype": "text/x-python",
   "name": "python",
   "nbconvert_exporter": "python",
   "pygments_lexer": "ipython3",
   "version": "3.12.5"
  }
 },
 "nbformat": 4,
 "nbformat_minor": 2
}
