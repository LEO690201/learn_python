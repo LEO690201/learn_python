{
 "cells": [
  {
   "cell_type": "markdown",
   "metadata": {},
   "source": [
    "##### numpy手册链接\n",
    "[Numpy库的手册](https://numpy.org/doc/stable/user/index.html)\n"
   ]
  },
  {
   "cell_type": "code",
   "execution_count": 1,
   "metadata": {},
   "outputs": [
    {
     "name": "stdout",
     "output_type": "stream",
     "text": [
      "[1 2 3 4 5]\n",
      "<class 'numpy.ndarray'>\n",
      "[[1 2 3]\n",
      " [4 5 6]]\n",
      "<class 'numpy.ndarray'>\n",
      "数组形状 (2, 3)\n"
     ]
    }
   ],
   "source": [
    "import numpy as np\n",
    "\n",
    "#1. 数组的创建\n",
    "arr=np.array([1,2,3,4,5])\n",
    "print(arr)\n",
    "print(type(arr))    #numpy.ndarray\n",
    "arr_2=np.array([[1,2,3],[4,5,6]])\n",
    "print(arr_2)\n",
    "print(type(arr_2))    #numpy.ndarray\n",
    "print(\"数组形状\",arr_2.shape)    #(numpy.ndarray名称).属性/内部变量  (numpy.ndarray名称).函数()\n"
   ]
  },
  {
   "cell_type": "code",
   "execution_count": 2,
   "metadata": {},
   "outputs": [
    {
     "name": "stdout",
     "output_type": "stream",
     "text": [
      "1\n",
      "[2 3]\n",
      "2\n",
      "[[1 2 3]]\n",
      "[4 5 6]\n",
      "[[2 3]\n",
      " [5 6]]\n"
     ]
    }
   ],
   "source": [
    "#2. 数组的索引和切片\n",
    "print(arr[0])\n",
    "print(arr[1:3])\n",
    "print(arr_2[0,1])\n",
    "print(arr_2[0:1])\n",
    "print(arr_2[:][1])\n",
    "print(arr_2[0:2,1:3])\n"
   ]
  },
  {
   "cell_type": "code",
   "execution_count": 3,
   "metadata": {},
   "outputs": [
    {
     "name": "stdout",
     "output_type": "stream",
     "text": [
      "[1, 2, 3, 4, 5, 6]\n",
      "[5 7 9]\n",
      "[ 4 10 18]\n"
     ]
    }
   ],
   "source": [
    "#3. 数组的运算\n",
    "print([1,2,3]+[4,5,6])\n",
    "print(np.array([1,2,3])+np.array([4,5,6]))    #向量相点加\n",
    "print(np.array([1,2,3])*np.array([4,5,6]))    #向量相点乘\n"
   ]
  },
  {
   "cell_type": "code",
   "execution_count": 4,
   "metadata": {},
   "outputs": [
    {
     "name": "stdout",
     "output_type": "stream",
     "text": [
      "(4, 3)\n",
      "[[1 2 3 2 3 4]\n",
      " [3 4 5 4 5 6]] 新的形状 (2, 6)\n",
      "[[1 3]\n",
      " [2 4]\n",
      " [3 5]\n",
      " [2 4]\n",
      " [3 5]\n",
      " [4 6]]\n"
     ]
    }
   ],
   "source": [
    "#4. 数组的形状操作\n",
    "import numpy as np\n",
    "arr=np.array([[1,2,3],[2,3,4],[3,4,5],[4,5,6]])\n",
    "print(arr.shape)\n",
    "new_arr=arr.reshape(2,6)    #改变形状\n",
    "print(new_arr,\"新的形状\",new_arr.shape)\n",
    "\n",
    "new_arr_2=new_arr.transpose()    #转置\n",
    "print(new_arr_2)\n"
   ]
  },
  {
   "cell_type": "code",
   "execution_count": 5,
   "metadata": {},
   "outputs": [
    {
     "name": "stdout",
     "output_type": "stream",
     "text": [
      "32\n",
      "[-3  6 -3]\n",
      "数组平均值 2.0\n",
      "数组平均值 2.0\n",
      "数组最小值 1\n",
      "数组最小值 1\n",
      "数组最大值 3\n",
      "数组最大值 3\n",
      "数组标准差 0.816496580927726\n",
      "数组标准差 0.816496580927726\n",
      "数组排序 [1 2 3]\n",
      "[False False  True]\n",
      "[3]\n",
      "[3 3 4 3 4 4]\n"
     ]
    }
   ],
   "source": [
    "#5. 数组的线性代数运算\n",
    "arr1=np.array([1,2,3])\n",
    "arr2=np.array([4,5,6])\n",
    "arr1_dot_arr2=np.dot(arr1,arr2) #数组的点积\n",
    "arr1_cross_arr2=np.cross(arr1,arr2) #数组的叉积\n",
    "print(arr1_dot_arr2)\n",
    "print(arr1_cross_arr2)\n",
    "\n",
    "#均值\n",
    "print(\"数组平均值\",np.mean(arr1))    #求数组平均值\n",
    "print(\"数组平均值\",arr1.mean())    #两种方式都可以---既是数组中的函数,也是numpy的函数\n",
    "\n",
    "#最值\n",
    "print(\"数组最小值\",np.min(arr1))    #求数组最小值---每行进行排序\n",
    "print(\"数组最小值\",arr1.min())    #两种方式都可以\n",
    "print(\"数组最大值\",np.max(arr1))    #求数组最大值\n",
    "print(\"数组最大值\",arr1.max())    #两种方式都可以\n",
    "\n",
    "#标准差\n",
    "print(\"数组标准差\",np.std(arr1))    #求数组标准差\n",
    "print(\"数组标准差\",arr1.std())    #两种方式都可以\n",
    "\n",
    "#排序\n",
    "print(\"数组排序\",np.sort(arr1))    #对数组进行排序\n",
    "#print(\"数组排序\",arr1.sort())    #不可以---不是数组内部函数,但是是numpy的函数\n",
    "\n",
    "print(arr1>2)    #数组元素是否大于2,结果是布尔数组\n",
    "print(arr1[arr1>2])    #数组中大于2的元素---得到一个大于2的元素组成的数组\n",
    "print(arr[((arr)>2) & ((arr)<5)])\n"
   ]
  },
  {
   "cell_type": "code",
   "execution_count": 6,
   "metadata": {},
   "outputs": [
    {
     "ename": "FileNotFoundError",
     "evalue": "[Errno 2] No such file or directory: 'arr.npy'",
     "output_type": "error",
     "traceback": [
      "\u001b[1;31m---------------------------------------------------------------------------\u001b[0m",
      "\u001b[1;31mFileNotFoundError\u001b[0m                         Traceback (most recent call last)",
      "\u001b[1;32m<ipython-input-6-50fbff673776>\u001b[0m in \u001b[0;36m<module>\u001b[1;34m()\u001b[0m\n\u001b[0;32m      1\u001b[0m \u001b[1;31m#保存和导入\u001b[0m\u001b[1;33m\u001b[0m\u001b[1;33m\u001b[0m\u001b[0m\n\u001b[0;32m      2\u001b[0m \u001b[1;32mimport\u001b[0m \u001b[0mnumpy\u001b[0m \u001b[1;32mas\u001b[0m \u001b[0mnp\u001b[0m\u001b[1;33m\u001b[0m\u001b[0m\n\u001b[1;32m----> 3\u001b[1;33m \u001b[0marr\u001b[0m\u001b[1;33m=\u001b[0m\u001b[0mnp\u001b[0m\u001b[1;33m.\u001b[0m\u001b[0mload\u001b[0m\u001b[1;33m(\u001b[0m\u001b[1;34m\"arr.npy\"\u001b[0m\u001b[1;33m)\u001b[0m\u001b[1;33m\u001b[0m\u001b[0m\n\u001b[0m\u001b[0;32m      4\u001b[0m \u001b[0mprint\u001b[0m\u001b[1;33m(\u001b[0m\u001b[0marr\u001b[0m\u001b[1;33m)\u001b[0m\u001b[1;33m\u001b[0m\u001b[0m\n\u001b[0;32m      5\u001b[0m \u001b[0mnp\u001b[0m\u001b[1;33m.\u001b[0m\u001b[0msave\u001b[0m\u001b[1;33m(\u001b[0m\u001b[1;34m\"arr_save\"\u001b[0m\u001b[1;33m,\u001b[0m\u001b[0marr\u001b[0m\u001b[1;33m)\u001b[0m\u001b[1;33m\u001b[0m\u001b[0m\n",
      "\u001b[1;32md:\\download\\anaconda\\anaconda\\lib\\site-packages\\numpy\\lib\\npyio.py\u001b[0m in \u001b[0;36mload\u001b[1;34m(file, mmap_mode, allow_pickle, fix_imports, encoding)\u001b[0m\n\u001b[0;32m    414\u001b[0m             \u001b[0mown_fid\u001b[0m \u001b[1;33m=\u001b[0m \u001b[1;32mFalse\u001b[0m\u001b[1;33m\u001b[0m\u001b[0m\n\u001b[0;32m    415\u001b[0m         \u001b[1;32melse\u001b[0m\u001b[1;33m:\u001b[0m\u001b[1;33m\u001b[0m\u001b[0m\n\u001b[1;32m--> 416\u001b[1;33m             \u001b[0mfid\u001b[0m \u001b[1;33m=\u001b[0m \u001b[0mstack\u001b[0m\u001b[1;33m.\u001b[0m\u001b[0menter_context\u001b[0m\u001b[1;33m(\u001b[0m\u001b[0mopen\u001b[0m\u001b[1;33m(\u001b[0m\u001b[0mos_fspath\u001b[0m\u001b[1;33m(\u001b[0m\u001b[0mfile\u001b[0m\u001b[1;33m)\u001b[0m\u001b[1;33m,\u001b[0m \u001b[1;34m\"rb\"\u001b[0m\u001b[1;33m)\u001b[0m\u001b[1;33m)\u001b[0m\u001b[1;33m\u001b[0m\u001b[0m\n\u001b[0m\u001b[0;32m    417\u001b[0m             \u001b[0mown_fid\u001b[0m \u001b[1;33m=\u001b[0m \u001b[1;32mTrue\u001b[0m\u001b[1;33m\u001b[0m\u001b[0m\n\u001b[0;32m    418\u001b[0m \u001b[1;33m\u001b[0m\u001b[0m\n",
      "\u001b[1;31mFileNotFoundError\u001b[0m: [Errno 2] No such file or directory: 'arr.npy'"
     ]
    }
   ],
   "source": [
    "#保存和导入\n",
    "import numpy as np\n",
    "arr=np.load(\"arr.npy\")\n",
    "print(arr)\n",
    "np.save(\"arr_save\",arr)"
   ]
  },
  {
   "cell_type": "markdown",
   "metadata": {},
   "source": [
    "用numpy创建4*4的矩阵,只保留10以内的数,并计算所有元素之和"
   ]
  },
  {
   "cell_type": "code",
   "execution_count": 61,
   "metadata": {},
   "outputs": [
    {
     "name": "stdout",
     "output_type": "stream",
     "text": [
      "0.12696983303810094\n",
      "3\n",
      "[0.89812542 0.70582013 0.7788297 ]\n",
      "[[32 87 36  8]\n",
      " [74 10 12 75]\n",
      " [20 47 50 86]\n",
      " [34 14 70 42]]\n",
      "[ 8 10]\n",
      "18\n"
     ]
    }
   ],
   "source": [
    "import numpy as np\n",
    "np.random.seed(123456)    # 设置随机数种子\n",
    "print(np.random.rand())\n",
    "print(np.random.randint(low=1, high=10))    #生成随机整数在low和high之间的数\n",
    "print(np.random.rand(3))    #生成3个随机数\n",
    "arr=np.random.randint(low=0,high=100,size=16)\n",
    "arr=arr.reshape(4,4)    #将数组变形为4行4列\n",
    "print(arr)\n",
    "print(arr[arr<=10])\n",
    "print(np.sum(arr[arr<=10]))    #求数组中小于等于10的元素的和\n"
   ]
  }
 ],
 "metadata": {
  "kernelspec": {
   "display_name": "base",
   "language": "python",
   "name": "python3"
  },
  "language_info": {
   "codemirror_mode": {
    "name": "ipython",
    "version": 3
   },
   "file_extension": ".py",
   "mimetype": "text/x-python",
   "name": "python",
   "nbconvert_exporter": "python",
   "pygments_lexer": "ipython3",
   "version": "3.6.5"
  }
 },
 "nbformat": 4,
 "nbformat_minor": 2
}
