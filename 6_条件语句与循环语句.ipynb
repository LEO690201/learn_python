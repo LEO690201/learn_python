{
 "cells": [
  {
   "cell_type": "code",
   "execution_count": 1,
   "metadata": {},
   "outputs": [
    {
     "name": "stdout",
     "output_type": "stream",
     "text": [
      "[1, 2, 3, 4, 5, 'hello', 6, 7, 8]\n"
     ]
    }
   ],
   "source": [
    "list_example=[\"hello\",1,2,3,4,5,6,7,7,7,8,8,\"hello\"]\n",
    "print(list(set(list_example)))\n",
    "#利用强制类型转换进行去重"
   ]
  },
  {
   "cell_type": "markdown",
   "metadata": {},
   "source": [
    "##### if条件语句\n",
    "```python\n",
    "if condition:    #条件判断\n",
    "    # do something\n",
    "elif condition:\n",
    "    # do something else\n",
    "else:\n",
    "    # do default action\n",
    "```\n",
    "\n",
    "##### for循环语句\n",
    "```python\n",
    "for <variable> in <iterable>:    #变量是否在列表中\n",
    "    <statement(s)>\n",
    "else:\n",
    "    <statement(s)>\n",
    "```\n",
    "\n",
    "##### while循环语句\n",
    "```python\n",
    "while condition:      #条件判断\n",
    "    <statement(s)>\n",
    "else:\n",
    "    <statement(s)>\n",
    "```\n",
    "\n",
    "\n",
    "\n"
   ]
  },
  {
   "cell_type": "code",
   "execution_count": 4,
   "metadata": {},
   "outputs": [
    {
     "name": "stdout",
     "output_type": "stream",
     "text": [
      "a 是正数\n",
      "a的正负值判断完成\n"
     ]
    }
   ],
   "source": [
    "#if语句\n",
    "a=5\n",
    "#判断a是正数还是负数\n",
    "if a>0:\n",
    "    print(\"a 是正数\")\n",
    "elif a==0:\n",
    "    print(\"a 是零\")\n",
    "else:\n",
    "    print(\"a 是负数\")\n",
    "\n",
    "print(\"a的正负值判断完成\")"
   ]
  },
  {
   "cell_type": "code",
   "execution_count": 16,
   "metadata": {},
   "outputs": [
    {
     "name": "stdout",
     "output_type": "stream",
     "text": [
      "0 i%2 0\n",
      "1 i%2 1\n",
      "2 i%2 0\n",
      "3 i%2 1\n",
      "4 i%2 0\n",
      "qwertyu\n",
      "\n",
      "red\n",
      "blue\n",
      "green\n",
      "这是第 1 次循环 0\n",
      "这是第 2 次循环 0\n",
      "这是第 3 次循环 0\n",
      "这是第 4 次循环 0\n",
      "这是第 5 次循环 0\n",
      "这是第 6 次循环 0\n",
      "这是第 7 次循环 1\n",
      "这是第 8 次循环 2\n",
      "这是第 9 次循环 3\n",
      "这是第 10 次循环 4\n",
      "这是第 11 次循环 0\n",
      "这是第 12 次循环 2\n",
      "这是第 13 次循环 4\n",
      "这是第 14 次循环 6\n",
      "这是第 15 次循环 8\n"
     ]
    }
   ],
   "source": [
    "#for循环语句\n",
    "for i in range(5):     #range(5)生成一个从0到4的序列，也可以写作[0,1,2,3,4]\n",
    "    print(i,end=\" \")\n",
    "    print(\"i%2\",i%2)\n",
    "\n",
    "for i in \"qwertyu\":\n",
    "    print(i,end=\"\")\n",
    "print(\"\\n\")\n",
    "\n",
    "for i in [\"red\",\"blue\",\"green\"]:#可以是列表\n",
    "    print(i)\n",
    "\n",
    "#多层for循环的嵌套\n",
    "num=0\n",
    "for i in range(3):\n",
    "    for j in range(5):\n",
    "        num += 1\n",
    "        print(\"这是第\",num,\"次循环\",i*j)\n",
    "        "
   ]
  },
  {
   "cell_type": "code",
   "execution_count": 18,
   "metadata": {},
   "outputs": [
    {
     "name": "stdout",
     "output_type": "stream",
     "text": [
      "1\n",
      "2\n",
      "3\n",
      "4\n",
      "5\n",
      "6\n",
      "7\n",
      "8\n",
      "9\n",
      "10\n",
      "11\n",
      "12\n",
      "13\n",
      "14\n",
      "15\n",
      "16\n",
      "17\n",
      "18\n",
      "19\n",
      "20\n",
      "21\n",
      "22\n",
      "23\n",
      "24\n",
      "25\n",
      "26\n",
      "27\n",
      "28\n",
      "29\n",
      "30\n",
      "31\n",
      "32\n",
      "33\n",
      "34\n",
      "35\n",
      "36\n",
      "37\n",
      "38\n",
      "39\n",
      "40\n",
      "41\n",
      "42\n",
      "43\n",
      "44\n",
      "45\n",
      "46\n",
      "47\n",
      "48\n",
      "49\n",
      "50\n",
      "终止\n"
     ]
    }
   ],
   "source": [
    "#while循环\n",
    "num =0 \n",
    "while num<100:\n",
    "    num+=1\n",
    "    print(num)\n",
    "    if num==50:\n",
    "        print(\"终止\")\n",
    "        break"
   ]
  },
  {
   "cell_type": "code",
   "execution_count": null,
   "metadata": {},
   "outputs": [],
   "source": [
    "#死循环\n",
    "while 1:\n",
    "    print(\"死循环\")"
   ]
  },
  {
   "cell_type": "code",
   "execution_count": 2,
   "metadata": {},
   "outputs": [
    {
     "name": "stdout",
     "output_type": "stream",
     "text": [
      "=\n",
      "恭喜猜中\n"
     ]
    }
   ],
   "source": [
    "#猜数字游戏\n",
    "target=99\n",
    "predict=0\n",
    "while int(predict)!=target:\n",
    "    predict=input(\"请输入一次数字: \")    #input默认为字符串类型，需要转换为整数类型\n",
    "    if int(predict)>target:\n",
    "        print(\"big\")\n",
    "    elif int(predict)<target:\n",
    "        print(\"small\")\n",
    "    else:\n",
    "        print(\"=\")\n",
    "print(\"恭喜猜中\")\n"
   ]
  }
 ],
 "metadata": {
  "kernelspec": {
   "display_name": "Python 3",
   "language": "python",
   "name": "python3"
  },
  "language_info": {
   "codemirror_mode": {
    "name": "ipython",
    "version": 3
   },
   "file_extension": ".py",
   "mimetype": "text/x-python",
   "name": "python",
   "nbconvert_exporter": "python",
   "pygments_lexer": "ipython3",
   "version": "3.12.5"
  }
 },
 "nbformat": 4,
 "nbformat_minor": 2
}
