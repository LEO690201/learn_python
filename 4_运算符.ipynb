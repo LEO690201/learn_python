{
 "cells": [
  {
   "cell_type": "markdown",
   "metadata": {},
   "source": [
    "算数运算符\n",
    "    + 加法\n",
    "    - 减法\n",
    "    * 乘法\n",
    "    / 除法\n",
    "    // 整除\n",
    "    % 取余\n",
    "    ** 乘方"
   ]
  },
  {
   "cell_type": "markdown",
   "metadata": {},
   "source": [
    "比较运算符\n",
    "- == 等于\n",
    "- !=等于\n",
    "- > 大于\n",
    "- < 小于\n",
    "- >= 大于等于\n",
    "- <= 小于等于"
   ]
  },
  {
   "cell_type": "markdown",
   "metadata": {},
   "source": [
    "逻辑运算符\n",
    "    and 与\n",
    "    or 或\n",
    "    not 非"
   ]
  },
  {
   "cell_type": "markdown",
   "metadata": {},
   "source": [
    "赋值运算符\n",
    "    = 赋值\n",
    "    += 增量赋值\n",
    "    -= 减量赋值\n",
    "    *= 乘量赋值\n",
    "    /= 除量赋值\n",
    "    //= 整除量赋值\n",
    "    %= 取余量赋值\n",
    "    **= 乘方量赋值"
   ]
  },
  {
   "cell_type": "markdown",
   "metadata": {},
   "source": [
    "成员运算符\n",
    "\n",
    "- in 运算符用于判断一个元素是否在一个序列中，语法格式为：\n",
    "\n",
    "`变量 in 序列`\n",
    "\n",
    "如果变量在序列中，则返回 True，否则返回 False。\n",
    "\n",
    "例如：\n",
    "\n",
    "```python\n",
    ">>> 'apple' in ['apple', 'banana', 'orange']\n",
    "True\n",
    ">>> 'grape' in ['apple', 'banana', 'orange']\n",
    "False\n",
    "```\n",
    "\n",
    "- not in 运算符与 in 运算符相反，用于判断一个元素是否不在一个序列中，语法格式为：\n",
    "\n",
    "`变量 not in 序列`\n",
    "\n",
    "如果变量不在序列中，则返回 True，否则返回 False。\n",
    "\n",
    "例如：\n",
    "\n",
    "```python\n",
    ">>> 'grape' not in ['apple', 'banana', 'orange']\n",
    "True\n",
    ">>> 'apple' not in ['apple', 'banana', 'orange']\n",
    "False\n",
    "```"
   ]
  },
  {
   "cell_type": "code",
   "execution_count": 1,
   "metadata": {},
   "outputs": [
    {
     "name": "stdout",
     "output_type": "stream",
     "text": [
      "a+b=  7\n",
      "a-b=  -3\n",
      "a*b=  10\n",
      "a/b=  0.4\n",
      "a//b=  0\n",
      "a%b=  2\n",
      "a**b=  32\n"
     ]
    }
   ],
   "source": [
    "a=2\n",
    "b=5\n",
    "\n",
    "print(\"a+b= \",a+b)\n",
    "print(\"a-b= \",a-b)\n",
    "print(\"a*b= \",a*b)\n",
    "print(\"a/b= \",a/b)\n",
    "print(\"a//b= \",a//b)\n",
    "print(\"a%b= \",a%b)\n",
    "print(\"a**b= \",a**b)"
   ]
  },
  {
   "cell_type": "code",
   "execution_count": 2,
   "metadata": {},
   "outputs": [
    {
     "name": "stdout",
     "output_type": "stream",
     "text": [
      "a>b: False\n",
      "a<b: True\n",
      "a>=b: False\n",
      "a<=b: True\n"
     ]
    }
   ],
   "source": [
    "print(\"a>b:\",a>b)\n",
    "print(\"a<b:\",a<b)\n",
    "print(\"a>=b:\",a>=b)\n",
    "print(\"a<=b:\",a<=b)\n",
    "print(\"a==b:\",a==b)\n",
    "print(\"a!=b:\",a!=b)"
   ]
  },
  {
   "cell_type": "code",
   "execution_count": 3,
   "metadata": {},
   "outputs": [
    {
     "name": "stdout",
     "output_type": "stream",
     "text": [
      "2\n",
      "3\n",
      "6\n",
      "3.0\n",
      "9.0\n",
      "4.0\n"
     ]
    }
   ],
   "source": [
    "#赋值运算\n",
    "a=1\n",
    "a=a+1\n",
    "print(a)\n",
    "a+=1\n",
    "print(a)\n",
    "a*=2\n",
    "print(a)\n",
    "a/=2\n",
    "print(a)\n",
    "a**=2\n",
    "print(a)\n",
    "a//=2\n",
    "print(a)"
   ]
  },
  {
   "cell_type": "code",
   "execution_count": 4,
   "metadata": {},
   "outputs": [
    {
     "name": "stdout",
     "output_type": "stream",
     "text": [
      "False\n",
      "True\n",
      "True\n",
      "0\n",
      "1\n",
      "True\n"
     ]
    }
   ],
   "source": [
    "#逻辑运算符\n",
    "a=1\n",
    "b=3\n",
    "print(a==1 and b==2)\n",
    "print(a==1 or b==2)\n",
    "print(not b==2)\n",
    "\n",
    "print(1 and 0)  #因为0为False，所以返回0\n",
    "print(1 or 0)   #因为1为True，所以返回1\n",
    "print(not 0)"
   ]
  },
  {
   "cell_type": "code",
   "execution_count": 8,
   "metadata": {},
   "outputs": [
    {
     "name": "stdout",
     "output_type": "stream",
     "text": [
      "True\n"
     ]
    }
   ],
   "source": [
    "#成员运算符\n",
    "string=\"Hello Alice\"\n",
    "char=\"o l\"\n",
    "print(char not in string)"
   ]
  }
 ],
 "metadata": {
  "kernelspec": {
   "display_name": "Python 3",
   "language": "python",
   "name": "python3"
  },
  "language_info": {
   "codemirror_mode": {
    "name": "ipython",
    "version": 3
   },
   "file_extension": ".py",
   "mimetype": "text/x-python",
   "name": "python",
   "nbconvert_exporter": "python",
   "pygments_lexer": "ipython3",
   "version": "3.12.5"
  }
 },
 "nbformat": 4,
 "nbformat_minor": 2
}
