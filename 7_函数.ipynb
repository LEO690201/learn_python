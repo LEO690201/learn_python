{
 "cells": [
  {
   "cell_type": "code",
   "execution_count": 1,
   "metadata": {},
   "outputs": [
    {
     "name": "stdout",
     "output_type": "stream",
     "text": [
      "3 是3的倍数\n",
      "14 不是三的倍数\n",
      "0 是3的倍数\n",
      "0 是3的倍数\n",
      "0 是3的倍数\n",
      "0 是3的倍数\n",
      "00 是3的倍数\n",
      "00 是3的倍数\n",
      "00000 是3的倍数\n",
      "00000 是3的倍数\n"
     ]
    },
    {
     "ename": "ValueError",
     "evalue": "invalid literal for int() with base 10: ''",
     "output_type": "error",
     "traceback": [
      "\u001b[1;31m---------------------------------------------------------------------------\u001b[0m",
      "\u001b[1;31mValueError\u001b[0m                                Traceback (most recent call last)",
      "Cell \u001b[1;32mIn[1], line 3\u001b[0m\n\u001b[0;32m      1\u001b[0m \u001b[38;5;28;01mwhile\u001b[39;00m \u001b[38;5;28;01mTrue\u001b[39;00m:\n\u001b[0;32m      2\u001b[0m     a_str\u001b[38;5;241m=\u001b[39m\u001b[38;5;28minput\u001b[39m(\u001b[38;5;124m\"\u001b[39m\u001b[38;5;124m请输入一个整数：\u001b[39m\u001b[38;5;124m\"\u001b[39m)\n\u001b[1;32m----> 3\u001b[0m     a_int\u001b[38;5;241m=\u001b[39m\u001b[38;5;28;43mint\u001b[39;49m\u001b[43m(\u001b[49m\u001b[43ma_str\u001b[49m\u001b[43m)\u001b[49m\n\u001b[0;32m      4\u001b[0m     \u001b[38;5;28;01mif\u001b[39;00m a_int \u001b[38;5;241m%\u001b[39m \u001b[38;5;241m3\u001b[39m\u001b[38;5;241m==\u001b[39m\u001b[38;5;241m0\u001b[39m:\n\u001b[0;32m      5\u001b[0m         \u001b[38;5;28mprint\u001b[39m(a_str,\u001b[38;5;124m\"\u001b[39m\u001b[38;5;124m是3的倍数\u001b[39m\u001b[38;5;124m\"\u001b[39m)\n",
      "\u001b[1;31mValueError\u001b[0m: invalid literal for int() with base 10: ''"
     ]
    }
   ],
   "source": [
    "while True:\n",
    "    a_str=input(\"请输入一个整数：\")\n",
    "    a_int=int(a_str)\n",
    "    if a_int % 3==0:\n",
    "        print(a_str,\"是3的倍数\")\n",
    "    else:\n",
    "        print(a_str,\"不是三的倍数\")\n",
    "        "
   ]
  },
  {
   "cell_type": "markdown",
   "metadata": {},
   "source": [
    "#### 函数:\n",
    "##### 定义一个函数:\n",
    "- 函数代码块以 def 关键词开头，后面跟函数名和圆括号()，\n",
    "- 任何传入参数和返回值都要在圆括号中声明。,圆括号之间可以用于定义参数\n",
    "- 函数第一行语句可以选择性地使用文档字符串，用于描述函数功能,存放函数说明\n",
    "- 函数内容以冒号(:)开始，并且缩进\n",
    "- return`return [expression]`语句用于返回函数的结果，可以返回任意表达式的结果。如果没有return语句，函数会返回None。\n",
    "\n",
    "```python\n",
    "def my_function(x, y):\n",
    "    \"\"\"This is a function to add two numbers\"\"\"\n",
    "    return x + y\n",
    "```\n",
    "\n",
    "```python\n",
    "def max(a,b)\n",
    "    if a>b:\n",
    "      return a\n",
    "    else:\n",
    "       return b\n",
    "```\n",
    "\n",
    "##### 调用函数:\n",
    "- 调用函数时，只需将函数名和参数用圆括号括起来，并将结果赋值给一个变量。\n",
    "- 如果函数没有返回值，则调用函数后，会返回None。"
   ]
  },
  {
   "cell_type": "code",
   "execution_count": 5,
   "metadata": {},
   "outputs": [
    {
     "name": "stdout",
     "output_type": "stream",
     "text": [
      "asd\n"
     ]
    }
   ],
   "source": [
    "print(\"asd\")\n",
    "\n",
    "def print(input):\n",
    "    return input"
   ]
  },
  {
   "cell_type": "code",
   "execution_count": 7,
   "metadata": {},
   "outputs": [
    {
     "name": "stdout",
     "output_type": "stream",
     "text": [
      "Hello World!\n",
      "True\n"
     ]
    },
    {
     "data": {
      "text/plain": [
       "7"
      ]
     },
     "execution_count": 7,
     "metadata": {},
     "output_type": "execute_result"
    }
   ],
   "source": [
    "def display(a):\n",
    "    print(a)\n",
    "    return 0\n",
    "\n",
    "display(\"Hello World!\")\n",
    "\n",
    "def judge3(n):\n",
    "    if n%3==0:\n",
    "        return True\n",
    "    else:\n",
    "        return False\n",
    "print(judge3(9))\n",
    "\n",
    "def add(a,b):   #形参\n",
    "    return a+b\n",
    "add(2,5)    #实参\n"
   ]
  },
  {
   "cell_type": "code",
   "execution_count": 8,
   "metadata": {},
   "outputs": [
    {
     "name": "stdout",
     "output_type": "stream",
     "text": [
      "2\n"
     ]
    }
   ],
   "source": [
    "def multiply(a,b=1):        #缺省参数,默认值b为1\n",
    "    return a*b\n",
    "print(multiply(2))"
   ]
  },
  {
   "cell_type": "markdown",
   "metadata": {},
   "source": [
    "判断质数:"
   ]
  },
  {
   "cell_type": "code",
   "execution_count": 9,
   "metadata": {},
   "outputs": [
    {
     "name": "stdout",
     "output_type": "stream",
     "text": [
      "True\n"
     ]
    }
   ],
   "source": [
    "def isprime(num):\n",
    "    if num<2:\n",
    "        return False\n",
    "    for i in range(2,num):\n",
    "        if num%i==0:\n",
    "            return False        \n",
    "    return True\n",
    "print(isprime(7))\n"
   ]
  }
 ],
 "metadata": {
  "kernelspec": {
   "display_name": "Python 3",
   "language": "python",
   "name": "python3"
  },
  "language_info": {
   "codemirror_mode": {
    "name": "ipython",
    "version": 3
   },
   "file_extension": ".py",
   "mimetype": "text/x-python",
   "name": "python",
   "nbconvert_exporter": "python",
   "pygments_lexer": "ipython3",
   "version": "3.12.5"
  }
 },
 "nbformat": 4,
 "nbformat_minor": 2
}
