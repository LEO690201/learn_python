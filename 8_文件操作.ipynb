{
 "cells": [
  {
   "cell_type": "markdown",
   "metadata": {
    "vscode": {
     "languageId": "plaintext"
    }
   },
   "source": [
    "##### 打开文件\n",
    "- Python `open()` 函数是最常用于打开文件，语法格式如下：\n",
    "\n",
    "```python\n",
    "file = open(filename, mode)\n",
    "```\n",
    "\n",
    "- 在对文件进行处理过程中如果文件无法打开,会抛出`OSError`异常。\n",
    "- 注意:使用open()方法一定要保证关闭文件对象,即调用close()方法。\n",
    "- open()函数常用形式是接收两个参数:文件名(file)和模式(mode)。\n",
    "\n",
    "##### 常用模式\n",
    "- `r`：读模式，文件必须存在，否则抛出`FileNotFoundError`异常。指针默认在文件的开头\n",
    "- `r+`：读写模式，文件必须存在，否则抛出`FileNotFoundError`异常。\n",
    "- `w`：写模式，文件不存在则创建，存在则覆盖。\n",
    "- `w+`：读写模式，文件不存在则创建，存在则覆盖。\n",
    "- `a`：追加模式，文件不存在则创建，存在则指针在末尾追加。\n",
    "- `a+`：读写模式，文件不存在则创建，存在则指针在末尾追加。\n",
    "\n",
    "##### file对象使用open函数来创建\n",
    "- file.read()：读取文件内容，返回字符串。\n",
    "- `file.read([size])`: 从文件读取指定的字节数，返回字符串,若为给定或为负则读取所有内容。\n",
    "- file.readline()：读取文件一行内容，返回字符串。\n",
    "- `file.readline([size])` : 读取整行,包括\"\\n\"字符\n",
    "- `file.readlines([size])`: 读取文件所有内容，返回列表，列表元素为每行内容。若给定的sizeint大于0，则读取指定大小的字节数,实际读取可能比sizeint大,要留有缓冲区。\n",
    "- file.readlines()：读取文件所有内容，返回列表，列表元素为每行内容。\n",
    "- `file.write(string)`：向文件写入内容，返回写入的字符数。\n",
    "- `file.writelines(list)`：向文件写入内容，参数为列表，列表元素为每行内容。\n",
    "- file.seek(offset, from_what)：移动文件读取指针到指定位置。\n",
    "- file.tell()：获取当前文件读取指针位置。\n",
    "- file.truncate(size=0)：截断文件，删除指定位置后的内容。\n",
    "- file.close()：关闭文件。\n",
    "\n",
    "```python\n",
    "# 打开文件\n",
    "f = open('test.txt', 'r')\n",
    "\n",
    "# 读取文件内容\n",
    "content = f.read()\n",
    "print(content)\n",
    "\n",
    "# 逐行读取文件内容\n",
    "line = f.readline()\n",
    "while line:\n",
    "    print(line)\n",
    "    line = f.readline()\n",
    "\n",
    "# 读取文件所有内容\n",
    "lines = f.readlines()\n",
    "for line in lines:\n",
    "    print(line)\n",
    "\n",
    "# 写入文件内容\n",
    "f.write('Hello, world!\\n')\n",
    "\n",
    "# 关闭文件\n",
    "f.close()\n",
    "```\n",
    "\n",
    "##### 读取文件\n",
    "- 使用`read()`方法可以一次性读取文件内容，返回字符串。\n",
    "- 使用`readline()`方法可以逐行读取文件内容，返回字符串。\n",
    "- 使用`readlines()`方法可以一次性读取文件内容，返回列表，列表元素为每行内容。\n",
    "\n",
    "##### 写入文件\n",
    "- 使用`write()`方法可以向文件写入内容，返回写入的字符数。\n",
    "- 使用`writelines()`方法可以向文件写入内容，参数为列表，列表元素为每行内容。\n",
    "\n",
    "```python\n",
    "# 打开文件\n",
    "f = open('test.txt', 'w')\n",
    "\n",
    "# 写入内容\n",
    "f.write('Hello, world!\\n')\n",
    "f.write('This is a test file.\\n')\n",
    "\n",
    "# 关闭文件\n",
    "f.close()\n",
    "```\n",
    "\n",
    "\n",
    "##### 其他操作\n",
    "- `seek()`方法可以移动文件读取指针到指定位置。\n",
    "- `tell()`方法可以获取当前文件读取指针位置。\n",
    "- `truncate()`方法可以截断文件，删除指定位置后的内容。          "
   ]
  },
  {
   "cell_type": "code",
   "execution_count": 7,
   "metadata": {},
   "outputs": [
    {
     "name": "stdout",
     "output_type": "stream",
     "text": [
      "1234567890\n",
      "\n",
      "['12345\\n', '1234\\n', '1234\\n', '2345y\\n', '23456ui23456\\n', '化工']\n"
     ]
    }
   ],
   "source": [
    "file_sample=open(file=\"sample.txt\",mode='r',encoding='utf-8')   #r 只读,encoding指定编码格式为中英文的统一格式\n",
    "content=file_sample.readline()   #返回第一行\n",
    "content2=file_sample.readlines()   #返回所有行,且为一个列表\n",
    "print(content)\n",
    "print(content2)\n",
    "file_sample.close()#类 ,关闭文件的成员函数"
   ]
  },
  {
   "cell_type": "code",
   "execution_count": 8,
   "metadata": {},
   "outputs": [
    {
     "name": "stdout",
     "output_type": "stream",
     "text": [
      "1234567890\n",
      "\n",
      "12345\n",
      "\n",
      "1234\n",
      "\n",
      "1234\n",
      "\n",
      "2345y\n",
      "\n",
      "23456ui23456\n",
      "\n",
      "化工\n"
     ]
    }
   ],
   "source": [
    "with open(file=\"sample.txt\",mode='r',encoding='utf-8') as file_sample:\n",
    "    content=file_sample.readlines()\n",
    "    for line in content:    #遍历每行内容\n",
    "        print(line)    #输出每行内容\n",
    "#这是一种不需要close()的写法，with语句会自动帮我们调用close()方法\n"
   ]
  },
  {
   "cell_type": "code",
   "execution_count": 10,
   "metadata": {},
   "outputs": [],
   "source": [
    "#文件写入\n",
    "with open(file=\"sample_2.txt\",mode=\"w\",encoding=\"utf-8\") as file_sample_2:\n",
    "    file_sample_2.write(\"你好，世界！\\n\")\n",
    "    file_sample_2.write(\"你好，世界！\\n\")\n",
    "\n",
    "\n",
    "#文件追加\n",
    "with open(file=\"sample.txt\",mode=\"a\",encoding=\"utf-8\") as file_sample_2:\n",
    "    file_sample_2.write(\"你好，世界！\\n\")\n",
    "    file_sample_2.write(\"你好，世界！\\n\")"
   ]
  },
  {
   "cell_type": "markdown",
   "metadata": {},
   "source": [
    "例题: 使用一个函数,将1-100中的质数写入一个文件中,并且每十个一换行"
   ]
  },
  {
   "cell_type": "code",
   "execution_count": 19,
   "metadata": {},
   "outputs": [
    {
     "name": "stdout",
     "output_type": "stream",
     "text": [
      "2\n",
      "3\n",
      "5\n",
      "7\n",
      "11\n",
      "13\n",
      "17\n",
      "19\n",
      "23\n",
      "29\n",
      "31\n",
      "37\n",
      "41\n",
      "43\n",
      "47\n",
      "53\n",
      "59\n",
      "61\n",
      "67\n",
      "71\n",
      "73\n",
      "79\n",
      "83\n",
      "89\n",
      "97\n"
     ]
    }
   ],
   "source": [
    "def isprime(num):\n",
    "    if num<2:\n",
    "        return False\n",
    "    for i in range(2,num):\n",
    "        if num%i==0:\n",
    "            return False\n",
    "    return True\n",
    "\n",
    "count=0\n",
    "\n",
    "with open(file=\"prime.txt\",mode=\"w\",encoding=\"utf-8\")as f:\n",
    "    for num in range(2,100):\n",
    "        if isprime(num):\n",
    "            print(num)\n",
    "            count+=1\n",
    "            f.write(str(num)+\" \")    #write() argument must be str, not int     而且加空格需要使用字符串拼接\n",
    "            if count%10==0:\n",
    "                f.write(\"\\n\")\n",
    "\n"
   ]
  }
 ],
 "metadata": {
  "kernelspec": {
   "display_name": "Python 3",
   "language": "python",
   "name": "python3"
  },
  "language_info": {
   "codemirror_mode": {
    "name": "ipython",
    "version": 3
   },
   "file_extension": ".py",
   "mimetype": "text/x-python",
   "name": "python",
   "nbconvert_exporter": "python",
   "pygments_lexer": "ipython3",
   "version": "3.12.5"
  }
 },
 "nbformat": 4,
 "nbformat_minor": 2
}
