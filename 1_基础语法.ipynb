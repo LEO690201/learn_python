{
 "cells": [
  {
   "cell_type": "markdown",
   "metadata": {},
   "source": [
    "标识符:\n",
    "- (1)第一个标识符必须是字母或下划线开头\n",
    "- (2)标识符只能包含字母、数字、下划线\n",
    "- (3)标识符不能是关键字、保留字、内置函数名、标准库名\n",
    "- (4)标识符的长度不能超过255字节\n",
    "- (5)标识符区分大小写"
   ]
  },
  {
   "cell_type": "markdown",
   "metadata": {},
   "source": [
    "注释:\n",
    "##### 这是一段注释\n",
    "'''\n",
    "这是多行注释\n",
    "'''"
   ]
  },
  {
   "cell_type": "markdown",
   "metadata": {},
   "source": [
    "行与缩进\n",
    "- (1)使用缩进来表示代码块\n",
    "- (2)Python中缩进的空格数是4个,同一个代码块中空格数目相同\n",
    "- (3)Python中没有大括号{}用来定义代码块，而是使用缩进来表示代码块\n",
    "- (4)Python中没有关键字end来表示代码块的结束，而是使用缩进来表示代码块的结束"
   ]
  },
  {
   "cell_type": "code",
   "execution_count": 3,
   "metadata": {},
   "outputs": [
    {
     "ename": "NameError",
     "evalue": "name 'a' is not defined",
     "output_type": "error",
     "traceback": [
      "\u001b[1;31m---------------------------------------------------------------------------\u001b[0m",
      "\u001b[1;31mNameError\u001b[0m                                 Traceback (most recent call last)",
      "Cell \u001b[1;32mIn[3], line 2\u001b[0m\n\u001b[0;32m      1\u001b[0m \u001b[38;5;66;03m#示例:\u001b[39;00m\n\u001b[1;32m----> 2\u001b[0m \u001b[38;5;28;01mif\u001b[39;00m \u001b[43ma\u001b[49m\u001b[38;5;241m==\u001b[39m\u001b[38;5;241m1\u001b[39m:\n\u001b[0;32m      3\u001b[0m     \u001b[38;5;28mprint\u001b[39m(a)\n\u001b[0;32m      4\u001b[0m     \u001b[38;5;28mprint\u001b[39m(\u001b[38;5;124m\"\u001b[39m\u001b[38;5;124mTRUE\u001b[39m\u001b[38;5;124m\"\u001b[39m)\n",
      "\u001b[1;31mNameError\u001b[0m: name 'a' is not defined"
     ]
    }
   ],
   "source": [
    "#示例:\n",
    "if a==1:\n",
    "    print(a)\n",
    "    print(\"TRUE\")\n",
    "    print(\"Hello, world!\")\n",
    "print(\"GO\")"
   ]
  },
  {
   "cell_type": "markdown",
   "metadata": {},
   "source": [
    "换行输出:\n",
    "print默认输出是换行的,如果实现不换行要在变量末尾加上end=\"\"\n",
    "input用的比较少\n"
   ]
  },
  {
   "cell_type": "code",
   "execution_count": 5,
   "metadata": {},
   "outputs": [
    {
     "name": "stdout",
     "output_type": "stream",
     "text": [
      "a\n",
      "b\n",
      "------------\n",
      "ab"
     ]
    }
   ],
   "source": [
    "#示例:\n",
    "x=\"a\"\n",
    "y=\"b\"\n",
    "#换行输出\n",
    "print(x)\n",
    "print(y)\n",
    "print(\"------------\")\n",
    "#不换行输出\n",
    "print(x,end=\"\")\n",
    "print(y,end=\"\")\n",
    "print()#空行\n"
   ]
  },
  {
   "cell_type": "code",
   "execution_count": 6,
   "metadata": {},
   "outputs": [
    {
     "name": "stderr",
     "output_type": "stream",
     "text": [
      "<>:1: SyntaxWarning: invalid decimal literal\n",
      "<>:1: SyntaxWarning: invalid decimal literal\n",
      "C:\\Users\\34099\\AppData\\Local\\Temp\\ipykernel_20084\\1063048972.py:1: SyntaxWarning: invalid decimal literal\n",
      "  2is124s #invalid syntax(输入不合法)\n"
     ]
    },
    {
     "ename": "SyntaxError",
     "evalue": "invalid syntax (1063048972.py, line 1)",
     "output_type": "error",
     "traceback": [
      "\u001b[1;36m  Cell \u001b[1;32mIn[6], line 1\u001b[1;36m\u001b[0m\n\u001b[1;33m    2is124s #invalid syntax(输入不合法)\u001b[0m\n\u001b[1;37m     ^\u001b[0m\n\u001b[1;31mSyntaxError\u001b[0m\u001b[1;31m:\u001b[0m invalid syntax\n"
     ]
    },
    {
     "ename": "",
     "evalue": "",
     "output_type": "error",
     "traceback": [
      "\u001b[1;31m在当前单元格或上一个单元格中执行代码时 Kernel 崩溃。\n",
      "\u001b[1;31m请查看单元格中的代码，以确定故障的可能原因。\n",
      "\u001b[1;31m单击<a href='https://aka.ms/vscodeJupyterKernelCrash'>此处</a>了解详细信息。\n",
      "\u001b[1;31m有关更多详细信息，请查看 Jupyter <a href='command:jupyter.viewOutput'>log</a>。"
     ]
    }
   ],
   "source": [
    "2is124s #invalid syntax(输入不合法)\n",
    "#变量名有问题\n"
   ]
  },
  {
   "cell_type": "code",
   "execution_count": 1,
   "metadata": {},
   "outputs": [
    {
     "name": "stdout",
     "output_type": "stream",
     "text": [
      "1\n",
      "2\n",
      "b=2\n",
      "第一行第二行\n",
      "1\n"
     ]
    }
   ],
   "source": [
    "#缩进\n",
    "a=1\n",
    "b=2\n",
    "if a==1:\n",
    "    print(a)\n",
    "    print(b)\n",
    "    print(\"b=2\")\n",
    "\n",
    "\n",
    "print(\"第一行\",end=\"\")\n",
    "print(\"第二行\")\n",
    "\n",
    "c=input(\"请输入: \")\n",
    "print(c)\n"
   ]
  }
 ],
 "metadata": {
  "kernelspec": {
   "display_name": "Python 3",
   "language": "python",
   "name": "python3"
  },
  "language_info": {
   "codemirror_mode": {
    "name": "ipython",
    "version": 3
   },
   "file_extension": ".py",
   "mimetype": "text/x-python",
   "name": "python",
   "nbconvert_exporter": "python",
   "pygments_lexer": "ipython3",
   "version": "3.12.5"
  }
 },
 "nbformat": 4,
 "nbformat_minor": 2
}
