{
 "cells": [
  {
   "cell_type": "markdown",
   "metadata": {},
   "source": [
    "# 在这台电脑中seaborn要使用pyhton3.12.5\n",
    "# 其他的库都是使用pyhton3.6.5\n"
   ]
  },
  {
   "cell_type": "code",
   "execution_count": 48,
   "metadata": {},
   "outputs": [
    {
     "name": "stdout",
     "output_type": "stream",
     "text": [
      "   Sepal.Length  Sepal.Width  Petal.Length  Petal.Width Species\n",
      "1           5.1          3.5           1.4          0.2  setosa\n",
      "2           4.9          3.0           1.4          0.2  setosa\n",
      "3           4.7          3.2           1.3          0.2  setosa\n",
      "4           NaN          3.1           1.5          0.2  setosa\n",
      "5           5.0          3.6           1.4          0.2  setosa\n",
      "     Sepal.Length  Sepal.Width  Petal.Length  Petal.Width    Species\n",
      "146           6.7          3.0           5.2          2.3  virginica\n",
      "147           6.3          2.5           5.0          1.9  virginica\n",
      "148           6.5          3.0           5.2          2.0  virginica\n",
      "149           6.2          3.4           5.4          2.3  virginica\n",
      "150           5.9          3.0           5.1          1.8  virginica\n",
      "(150, 5)\n",
      "Index(['Sepal.Length', 'Sepal.Width', 'Petal.Length', 'Petal.Width',\n",
      "       'Species'],\n",
      "      dtype='object')\n",
      "Int64Index([  1,   2,   3,   4,   5,   6,   7,   8,   9,  10,\n",
      "            ...\n",
      "            141, 142, 143, 144, 145, 146, 147, 148, 149, 150],\n",
      "           dtype='int64', length=150)\n",
      "<class 'pandas.core.frame.DataFrame'>\n"
     ]
    }
   ],
   "source": [
    "import pandas as pd\n",
    "import numpy as np\n",
    "df=pd.read_excel(\"鸢尾花.xlsx\",\"Sheet1\")\n",
    "print(df.head())  #查看前五行数据\n",
    "print(df.tail())  #查看后五行数据\n",
    "print(df.shape)  #查看行列数\n",
    "print(df.columns)  #查看列名\n",
    "print(df.index)  #查看行索引\n",
    "print(type(df))\n",
    "arr=np.array([1,3,4])\n"
   ]
  },
  {
   "cell_type": "code",
   "execution_count": 49,
   "metadata": {},
   "outputs": [
    {
     "name": "stdout",
     "output_type": "stream",
     "text": [
      "   样本号  片长  萼片长度\n",
      "0    1  10    10\n",
      "1    2  20    20\n",
      "2    3  30    30\n"
     ]
    }
   ],
   "source": [
    "# 1.创建DataFrame(类似于Excel表格)\n",
    "data={'样本号':[1,2,3],'片长':[10,20,30],'萼片长度':[10,20,30]}\n",
    "datadf=pd.DataFrame(data)\n",
    "print(datadf)\n"
   ]
  },
  {
   "cell_type": "code",
   "execution_count": 50,
   "metadata": {},
   "outputs": [
    {
     "name": "stdout",
     "output_type": "stream",
     "text": [
      "   Sepal.Length  Sepal.Width  Petal.Length  Petal.Width Species\n",
      "1           5.1          3.5           1.4          0.2  setosa\n",
      "2           4.9          3.0           1.4          0.2  setosa\n",
      "3           4.7          3.2           1.3          0.2  setosa\n",
      "4           NaN          3.1           1.5          0.2  setosa\n",
      "5           5.0          3.6           1.4          0.2  setosa\n",
      "<class 'pandas.core.frame.DataFrame'>\n",
      "Int64Index: 150 entries, 1 to 150\n",
      "Data columns (total 5 columns):\n",
      "Sepal.Length    149 non-null float64\n",
      "Sepal.Width     149 non-null float64\n",
      "Petal.Length    149 non-null float64\n",
      "Petal.Width     149 non-null float64\n",
      "Species         150 non-null object\n",
      "dtypes: float64(4), object(1)\n",
      "memory usage: 7.0+ KB\n",
      "None\n",
      "       Sepal.Length  Sepal.Width  Petal.Length  Petal.Width\n",
      "count    149.000000   149.000000    149.000000   149.000000\n",
      "mean       5.851678     3.055034      3.773154     1.206040\n",
      "std        0.824507     0.436422      1.761435     0.760354\n",
      "min        4.300000     2.000000      1.000000     0.100000\n",
      "25%        5.100000     2.800000      1.600000     0.300000\n",
      "50%        5.800000     3.000000      4.400000     1.300000\n",
      "75%        6.400000     3.300000      5.100000     1.800000\n",
      "max        7.900000     4.400000      6.900000     2.500000\n"
     ]
    }
   ],
   "source": [
    "# 2.基础信息:\n",
    "print(df.head())\n",
    "print(df.info())  # 输出数据集的基本信息\n",
    "print(df.describe())  # 输出数据集的统计信息  包括个数,均值,标准差,最小值,最大值,百分位数等\n"
   ]
  },
  {
   "cell_type": "code",
   "execution_count": 51,
   "metadata": {},
   "outputs": [
    {
     "name": "stdout",
     "output_type": "stream",
     "text": [
      "   Sepal.Length  Sepal.Width  Petal.Length  Petal.Width Species\n",
      "1           5.1          3.5           1.4          0.2  setosa\n",
      "2           4.9          3.0           1.4          0.2  setosa\n",
      "3           4.7          3.2           1.3          0.2  setosa\n",
      "4           NaN          3.1           1.5          0.2  setosa\n",
      "5           5.0          3.6           1.4          0.2  setosa\n",
      "   Sepal.Length  Sepal.Width  Petal.Length  Petal.Width Species\n",
      "1           5.1          3.5           1.4          0.2  setosa\n",
      "2           4.9          3.0           1.4          0.2  setosa\n",
      "3           4.7          3.2           1.3          0.2  setosa\n",
      "5           5.0          3.6           1.4          0.2  setosa\n",
      "6           5.4          3.9           1.7          0.4  setosa\n"
     ]
    }
   ],
   "source": [
    "#缺失数据处理\n",
    "print(df.head())\n",
    "df=df.dropna()    #删除缺失数据\n",
    "print(df.head())\n"
   ]
  },
  {
   "cell_type": "code",
   "execution_count": 52,
   "metadata": {},
   "outputs": [
    {
     "name": "stdout",
     "output_type": "stream",
     "text": [
      "   Sepal.Length  Sepal.Width  Petal.Length  Petal.Width Species\n",
      "1           5.1            3           1.4          0.2  setosa\n",
      "2           4.9            3           1.4          0.2  setosa\n",
      "3           4.7            3           1.3          0.2  setosa\n",
      "5           5.0            3           1.4          0.2  setosa\n",
      "6           5.4            3           1.7          0.4  setosa\n",
      "   Sepal.Length  Sepal.Width  Petal.Length  Petal.Width Species\n",
      "1           5.1          3.0           1.4          0.2  setosa\n",
      "2           4.9          3.0           1.4          0.2  setosa\n",
      "3           4.7          3.0           1.3          0.2  setosa\n",
      "5           5.0          3.0           1.4          0.2  setosa\n",
      "6           5.4          3.0           1.7          0.4  setosa\n"
     ]
    }
   ],
   "source": [
    "#数据类型转换\n",
    "df['Sepal.Width']=df['Sepal.Width'].astype(int)    #将数据类型转换为int\n",
    "print(df.head())\n",
    "df['Sepal.Width']=df['Sepal.Width'].astype(float)  #将数据类型转换为float\n",
    "print(df.head())"
   ]
  },
  {
   "cell_type": "code",
   "execution_count": 53,
   "metadata": {},
   "outputs": [
    {
     "name": "stdout",
     "output_type": "stream",
     "text": [
      "    Sepal.Length  Sepal.Width  Petal.Length  Petal.Width     Species\n",
      "1            5.1          3.0           1.4          0.2      setosa\n",
      "18           5.1          3.0           1.4          0.3      setosa\n",
      "20           5.1          3.0           1.5          0.3      setosa\n",
      "24           5.1          3.0           1.7          0.5      setosa\n",
      "40           5.1          3.0           1.5          0.2      setosa\n",
      "45           5.1          3.0           1.9          0.4      setosa\n",
      "47           5.1          3.0           1.6          0.2      setosa\n",
      "99           5.1          2.0           3.0          1.1  versicolor\n",
      "1.7484818977108623\n",
      "3.8198630136986327\n",
      "2.421077495529943 5.218648531867323\n",
      "    Sepal.Length  Sepal.Width  Petal.Length  Petal.Width     Species\n",
      "99           5.1          2.0           3.0          1.1  versicolor\n"
     ]
    }
   ],
   "source": [
    "#数据选择和过滤\n",
    "df_1=df[df['Sepal.Length']==5.1] #选择Sepal.Length等于5.1的数据\n",
    "print(df_1)\n",
    "\n",
    "std_1=df['Petal.Length'].std()\n",
    "print(std_1)\n",
    "\n",
    "mean_1=df['Petal.Length'].mean()\n",
    "print(mean_1)\n",
    "\n",
    "lb=mean_1-0.8*std_1\n",
    "ub=mean_1+0.8*std_1\n",
    "print(lb,ub)\n",
    "\n",
    "df_2=df_1[(df_1['Petal.Length']>lb) & (df_1['Petal.Length']<ub)] #选择Petal.Length在(lb,ub)之间的数据\n",
    "print(df_2)"
   ]
  },
  {
   "cell_type": "markdown",
   "metadata": {},
   "source": [
    "例题:自己创建一个excel文件"
   ]
  },
  {
   "cell_type": "code",
   "execution_count": 1,
   "metadata": {},
   "outputs": [
    {
     "name": "stdout",
     "output_type": "stream",
     "text": [
      "   姓名   身高  体重  成绩\n",
      "0  张三  175  50  85\n",
      "1  李四  175  50  66\n",
      "2  王五  175  50  64\n",
      "3  老六  175  50  80\n",
      "4  赵七  175  50  63\n"
     ]
    }
   ],
   "source": [
    "import pandas as pd\n",
    "import numpy as np\n",
    " #'成绩':[numpy.random.randint(30,90,5)]\n",
    "data={'姓名':['张三','李四','王五','老六','赵七'],\n",
    "      '身高':[175 for i in range(5)],\n",
    "      '体重':[50 for i in range(5)],\n",
    "      '成绩':np.random.randint(30,90,5)}\n",
    "df=pd.DataFrame(data)\n",
    "print(df)\n",
    "# np.random.seed(100)\n",
    "# print(np.random.randint(30,90,5))"
   ]
  }
 ],
 "metadata": {
  "kernelspec": {
   "display_name": "base",
   "language": "python",
   "name": "python3"
  },
  "language_info": {
   "codemirror_mode": {
    "name": "ipython",
    "version": 3
   },
   "file_extension": ".py",
   "mimetype": "text/x-python",
   "name": "python",
   "nbconvert_exporter": "python",
   "pygments_lexer": "ipython3",
   "version": "3.6.5"
  }
 },
 "nbformat": 4,
 "nbformat_minor": 2
}
