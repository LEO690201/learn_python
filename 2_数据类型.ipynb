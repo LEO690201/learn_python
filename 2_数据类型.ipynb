{
 "cells": [
  {
   "cell_type": "markdown",
   "metadata": {},
   "source": [
    "python中的变量不需要声明\n",
    "\n",
    "每个变量在使用之前必须赋值,赋值以后该变量才会被创建"
   ]
  },
  {
   "cell_type": "code",
   "execution_count": 3,
   "metadata": {},
   "outputs": [
    {
     "name": "stdout",
     "output_type": "stream",
     "text": [
      "<class 'int'>\n",
      "<class 'bool'>\n",
      "<class 'float'>\n",
      "<class 'str'>\n",
      "<class 'list'>\n",
      "<class 'tuple'>\n",
      "<class 'dict'>\n",
      "<class 'complex'>\n"
     ]
    }
   ],
   "source": [
    "a=100 #整形   int\n",
    "print(type(a))  #type()函数可以查看变量的类型\n",
    "\n",
    "b=True #布尔型  bool\n",
    "print(type(b))\n",
    "\n",
    "c=3.14 #浮点型  float\n",
    "print(type(c))\n",
    "\n",
    "d='hello' #字符串型    str\n",
    "print(type(d))\n",
    "\n",
    "e=[1,2,3,4,5] #列表型  list\n",
    "print(type(e))\n",
    "\n",
    "f=(1,2,3,4,5) #元组型  tuple\n",
    "print(type(f))\n",
    "\n",
    "g={'name':'Alice','age':20} #字典型  dict\n",
    "print(type(g))  \n",
    "\n",
    "h=1+2j #复数型  complex\n",
    "print(type(h))\n",
    "\n"
   ]
  },
  {
   "cell_type": "code",
   "execution_count": 8,
   "metadata": {},
   "outputs": [
    {
     "name": "stdout",
     "output_type": "stream",
     "text": [
      "ab的数据类型 <class 'int'> <class 'bool'> <class 'int'>\n",
      "ab的数据类型 <class 'int'> <class 'bool'> <class 'int'>\n",
      "ab的数据类型 <class 'int'> <class 'bool'> <class 'int'>\n",
      "100hello\n"
     ]
    }
   ],
   "source": [
    "#数据类型的转换\n",
    "ab=a+b\n",
    "print(\"ab的数据类型\",type(a),type(b),type(ab))\n",
    "ab=a+int(b)          #将b转换为整数类型     \n",
    "print(\"ab的数据类型\",type(a),type(b),type(ab))\n",
    "ab=int(a+b)\n",
    "print(\"ab的数据类型\",type(a),type(b),type(ab))\n",
    "ad=str(a)+d\n",
    "print(ad)            #字符串的拼接"
   ]
  },
  {
   "cell_type": "code",
   "execution_count": null,
   "metadata": {},
   "outputs": [],
   "source": []
  }
 ],
 "metadata": {
  "kernelspec": {
   "display_name": "Python 3",
   "language": "python",
   "name": "python3"
  },
  "language_info": {
   "codemirror_mode": {
    "name": "ipython",
    "version": 3
   },
   "file_extension": ".py",
   "mimetype": "text/x-python",
   "name": "python",
   "nbconvert_exporter": "python",
   "pygments_lexer": "ipython3",
   "version": "3.12.5"
  }
 },
 "nbformat": 4,
 "nbformat_minor": 2
}
